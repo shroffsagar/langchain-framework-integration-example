{
 "cells": [
  {
   "cell_type": "markdown",
   "metadata": {},
   "source": [
    "# Chains in LangChain\n",
    "\n",
    "## Outline\n",
    "\n",
    "* LLMChain\n",
    "* Sequential Chains\n",
    "  * SimpleSequentialChain\n",
    "  * SequentialChain\n",
    "* Router Chain"
   ]
  },
  {
   "cell_type": "code",
   "execution_count": 1,
   "metadata": {},
   "outputs": [
    {
     "name": "stdout",
     "output_type": "stream",
     "text": [
      "\n"
     ]
    }
   ],
   "source": [
    "import subprocess\n",
    "\n",
    "OPEN_AI_KEY = subprocess.run('bash -l -c \"getpassw $OPEN_AI_API_KEY\"', shell=True, capture_output=True, text=True)\n",
    "OPEN_AI_KEY = OPEN_AI_KEY.stdout.strip()\n",
    "print(\"\")"
   ]
  },
  {
   "cell_type": "code",
   "execution_count": 2,
   "metadata": {},
   "outputs": [],
   "source": [
    "LLM_MODEL = \"gpt-4o-mini-2024-07-18\"\n",
    "DATA = \"./Data.csv\""
   ]
  },
  {
   "cell_type": "code",
   "execution_count": 7,
   "metadata": {},
   "outputs": [],
   "source": [
    "import pandas as pd\n",
    "\n",
    "df = pd.read_csv(DATA)"
   ]
  },
  {
   "cell_type": "code",
   "execution_count": 8,
   "metadata": {},
   "outputs": [
    {
     "data": {
      "text/html": [
       "<div>\n",
       "<style scoped>\n",
       "    .dataframe tbody tr th:only-of-type {\n",
       "        vertical-align: middle;\n",
       "    }\n",
       "\n",
       "    .dataframe tbody tr th {\n",
       "        vertical-align: top;\n",
       "    }\n",
       "\n",
       "    .dataframe thead th {\n",
       "        text-align: right;\n",
       "    }\n",
       "</style>\n",
       "<table border=\"1\" class=\"dataframe\">\n",
       "  <thead>\n",
       "    <tr style=\"text-align: right;\">\n",
       "      <th></th>\n",
       "      <th>Product</th>\n",
       "      <th>Review</th>\n",
       "    </tr>\n",
       "  </thead>\n",
       "  <tbody>\n",
       "    <tr>\n",
       "      <th>0</th>\n",
       "      <td>Queen Size Sheet Set</td>\n",
       "      <td>I ordered a king size set. My only criticism w...</td>\n",
       "    </tr>\n",
       "    <tr>\n",
       "      <th>1</th>\n",
       "      <td>Waterproof Phone Pouch</td>\n",
       "      <td>I loved the waterproof sac, although the openi...</td>\n",
       "    </tr>\n",
       "    <tr>\n",
       "      <th>2</th>\n",
       "      <td>Luxury Air Mattress</td>\n",
       "      <td>This mattress had a small hole in the top of i...</td>\n",
       "    </tr>\n",
       "    <tr>\n",
       "      <th>3</th>\n",
       "      <td>Pillows Insert</td>\n",
       "      <td>This is the best throw pillow fillers on Amazo...</td>\n",
       "    </tr>\n",
       "    <tr>\n",
       "      <th>4</th>\n",
       "      <td>Milk Frother Handheld\\n</td>\n",
       "      <td>I loved this product. But they only seem to l...</td>\n",
       "    </tr>\n",
       "  </tbody>\n",
       "</table>\n",
       "</div>"
      ],
      "text/plain": [
       "                   Product                                             Review\n",
       "0     Queen Size Sheet Set  I ordered a king size set. My only criticism w...\n",
       "1   Waterproof Phone Pouch  I loved the waterproof sac, although the openi...\n",
       "2      Luxury Air Mattress  This mattress had a small hole in the top of i...\n",
       "3           Pillows Insert  This is the best throw pillow fillers on Amazo...\n",
       "4  Milk Frother Handheld\\n   I loved this product. But they only seem to l..."
      ]
     },
     "execution_count": 8,
     "metadata": {},
     "output_type": "execute_result"
    }
   ],
   "source": [
    "df.head()"
   ]
  },
  {
   "cell_type": "markdown",
   "metadata": {},
   "source": [
    "## LLMChain"
   ]
  },
  {
   "cell_type": "code",
   "execution_count": 9,
   "metadata": {},
   "outputs": [],
   "source": [
    "from langchain_openai import ChatOpenAI\n",
    "\n",
    "llm = ChatOpenAI(model=LLM_MODEL, api_key=OPEN_AI_KEY, temperature=0)"
   ]
  },
  {
   "cell_type": "code",
   "execution_count": 12,
   "metadata": {},
   "outputs": [],
   "source": [
    "from langchain.prompts import ChatPromptTemplate\n",
    "\n",
    "prompt_template = ChatPromptTemplate.from_template(\n",
    "    \"What is the best name to describe \\\n",
    "    a company that makes {product}?\")"
   ]
  },
  {
   "cell_type": "code",
   "execution_count": null,
   "metadata": {},
   "outputs": [],
   "source": [
    "from langchain.chains import LLMChain\n",
    "\n",
    "chain = LLMChain(llm=llm, prompt=prompt_template)\n"
   ]
  },
  {
   "cell_type": "code",
   "execution_count": 15,
   "metadata": {},
   "outputs": [
    {
     "data": {
      "text/plain": [
       "{'product': 'Queen Size Sheet Set',\n",
       " 'text': \"Choosing a name for a company that specializes in queen size sheet sets can be both fun and strategic. Here are some suggestions that convey comfort, quality, and the specific product focus:\\n\\n1. **Queen's Comfort**\\n2. **Regal Rest**\\n3. **Sheet Serenity**\\n4. **Majestic Linens**\\n5. **Queen Size Dreams**\\n6. **Royal Slumber**\\n7. **Dreamy Sheets Co.**\\n8. **Luxurious Layers**\\n9. **Queenly Comforts**\\n10. **Sheet Haven**\\n\\nWhen selecting a name, consider your target audience, brand values, and the overall image you want to project. Make sure to check for domain availability if you plan to have an online presence!\"}"
      ]
     },
     "execution_count": 15,
     "metadata": {},
     "output_type": "execute_result"
    }
   ],
   "source": [
    "product = \"Queen Size Sheet Set\"\n",
    "chain.invoke(product)"
   ]
  },
  {
   "cell_type": "code",
   "execution_count": 17,
   "metadata": {},
   "outputs": [
    {
     "data": {
      "text/plain": [
       "{'product': 'Cycle for exercising at home with online community',\n",
       " 'text': 'Here are some name ideas for a company that makes exercise cycles for home use and fosters an online community:\\n\\n1. **CycleConnect**\\n2. **FitCycle Community**\\n3. **HomeSpin Hub**\\n4. **PedalPal**\\n5. **CycleSphere**\\n6. **SpinSync**\\n7. **FitNest Cycles**\\n8. **CycleTogether**\\n9. **PedalPals Network**\\n10. **HomeCycle Collective**\\n\\nThese names emphasize both the product and the community aspect of your company.'}"
      ]
     },
     "execution_count": 17,
     "metadata": {},
     "output_type": "execute_result"
    }
   ],
   "source": [
    "product = \"Cycle for exercising at home with online community\"\n",
    "chain.invoke(product)"
   ]
  },
  {
   "cell_type": "markdown",
   "metadata": {},
   "source": [
    "## SimpleSequentialChain"
   ]
  },
  {
   "cell_type": "code",
   "execution_count": 18,
   "metadata": {},
   "outputs": [],
   "source": [
    "llm = ChatOpenAI(temperature=0, model=LLM_MODEL, api_key=OPEN_AI_KEY)"
   ]
  },
  {
   "cell_type": "code",
   "execution_count": 28,
   "metadata": {},
   "outputs": [],
   "source": [
    "from langchain.chains import SimpleSequentialChain\n",
    "\n",
    "# chain of thoughts /  sequence of prompts\n",
    "chain1 = LLMChain(llm=llm, prompt=ChatPromptTemplate.from_template(\"Which is the leading company that makes {product}?\"))\n",
    "chain2 = LLMChain(llm=llm, prompt=ChatPromptTemplate.from_template(\"Write a 20 word description for the company: {company}\"))\n",
    "chain3 = LLMChain(llm=llm, prompt=ChatPromptTemplate.from_template(\"Find out their net worth for the company: {company}\"))\n",
    "simpleSeqChain = SimpleSequentialChain(chains=[chain1, chain2, chain3], verbose=True)\n"
   ]
  },
  {
   "cell_type": "code",
   "execution_count": 29,
   "metadata": {},
   "outputs": [
    {
     "name": "stderr",
     "output_type": "stream",
     "text": [
      "Error in StdOutCallbackHandler.on_chain_start callback: AttributeError(\"'NoneType' object has no attribute 'get'\")\n"
     ]
    },
    {
     "name": "stdout",
     "output_type": "stream",
     "text": [
      "\u001b[36;1m\u001b[1;3mAs of my last update in October 2023, several companies are recognized as leaders in the fitness apparel industry. Notable among them are:\n",
      "\n",
      "1. **Nike** - Known for its innovative designs and technology in athletic wear.\n",
      "2. **Adidas** - Offers a wide range of fitness apparel and is known for its collaborations and sustainability efforts.\n",
      "3. **Under Armour** - Focuses on performance apparel and has gained popularity for its moisture-wicking fabrics.\n",
      "4. **Lululemon** - Specializes in yoga and athletic wear, known for its high-quality materials and stylish designs.\n",
      "5. **Puma** - Offers a variety of athletic clothing and has made strides in both performance and fashion.\n",
      "\n",
      "These companies are often at the forefront of trends in fitness apparel, but the market is dynamic, and new brands can emerge as leaders over time.\u001b[0m\n",
      "\u001b[33;1m\u001b[1;3mLeading the fitness apparel industry, these companies combine innovation, style, and sustainability to enhance athletic performance and comfort.\u001b[0m\n",
      "\u001b[38;5;200m\u001b[1;3mTo provide an accurate net worth for companies in the fitness apparel industry, I would need specific names of the companies you are referring to. However, I can mention some of the leading companies in this sector, such as Nike, Adidas, Under Armour, Lululemon Athletica, and Puma, and provide general information about their market capitalization or financial performance as of my last update in October 2023.\n",
      "\n",
      "1. **Nike, Inc.**: As one of the largest athletic apparel companies in the world, Nike's market capitalization often exceeds $150 billion.\n",
      "\n",
      "2. **Adidas AG**: This German company is a major player in the fitness apparel market, with a market cap typically around $40 billion.\n",
      "\n",
      "3. **Under Armour, Inc.**: Known for its performance apparel, Under Armour's market cap has fluctuated but is generally in the range of $5 billion to $10 billion.\n",
      "\n",
      "4. **Lululemon Athletica Inc.**: Specializing in yoga and athletic wear, Lululemon's market cap has been around $40 billion to $50 billion.\n",
      "\n",
      "5. **Puma SE**: Another significant player, Puma's market cap is usually around $10 billion to $15 billion.\n",
      "\n",
      "For the most accurate and current figures, I recommend checking financial news sources or stock market data platforms, as these values can change frequently based on market conditions.\u001b[0m\n",
      "\n",
      "\u001b[1m> Finished chain.\u001b[0m\n"
     ]
    },
    {
     "data": {
      "text/plain": [
       "{'input': 'Fitness apparel',\n",
       " 'output': \"To provide an accurate net worth for companies in the fitness apparel industry, I would need specific names of the companies you are referring to. However, I can mention some of the leading companies in this sector, such as Nike, Adidas, Under Armour, Lululemon Athletica, and Puma, and provide general information about their market capitalization or financial performance as of my last update in October 2023.\\n\\n1. **Nike, Inc.**: As one of the largest athletic apparel companies in the world, Nike's market capitalization often exceeds $150 billion.\\n\\n2. **Adidas AG**: This German company is a major player in the fitness apparel market, with a market cap typically around $40 billion.\\n\\n3. **Under Armour, Inc.**: Known for its performance apparel, Under Armour's market cap has fluctuated but is generally in the range of $5 billion to $10 billion.\\n\\n4. **Lululemon Athletica Inc.**: Specializing in yoga and athletic wear, Lululemon's market cap has been around $40 billion to $50 billion.\\n\\n5. **Puma SE**: Another significant player, Puma's market cap is usually around $10 billion to $15 billion.\\n\\nFor the most accurate and current figures, I recommend checking financial news sources or stock market data platforms, as these values can change frequently based on market conditions.\"}"
      ]
     },
     "execution_count": 29,
     "metadata": {},
     "output_type": "execute_result"
    }
   ],
   "source": [
    "simpleSeqChain.invoke(\"Fitness apparel\")"
   ]
  },
  {
   "cell_type": "code",
   "execution_count": 30,
   "metadata": {},
   "outputs": [
    {
     "name": "stderr",
     "output_type": "stream",
     "text": [
      "Error in StdOutCallbackHandler.on_chain_start callback: AttributeError(\"'NoneType' object has no attribute 'get'\")\n"
     ]
    },
    {
     "name": "stdout",
     "output_type": "stream",
     "text": [
      "\u001b[36;1m\u001b[1;3mAs of my last update in October 2023, Apple is often considered the leading company in the health watch market, primarily due to its Apple Watch series, which includes a variety of health and fitness tracking features. Other notable companies in the health watch space include Fitbit (now part of Google), Garmin, Samsung, and Huawei, each offering their own health-focused wearable devices. The competition in this market is dynamic, with new features and technologies being introduced regularly.\u001b[0m\n",
      "\u001b[33;1m\u001b[1;3mApple leads the health watch market with its innovative Apple Watch series, offering advanced health and fitness tracking features for users.\u001b[0m\n",
      "\u001b[38;5;200m\u001b[1;3mAs of my last knowledge update in October 2023, Apple Inc. is one of the most valuable companies in the world, with a market capitalization often exceeding $2 trillion. However, the specific net worth of the company can fluctuate based on stock market conditions and other financial factors.\n",
      "\n",
      "If you're looking for the most current net worth or market capitalization of Apple, I recommend checking a reliable financial news source or stock market website for the latest figures.\u001b[0m\n",
      "\n",
      "\u001b[1m> Finished chain.\u001b[0m\n"
     ]
    },
    {
     "data": {
      "text/plain": [
       "{'input': 'Health watch',\n",
       " 'output': \"As of my last knowledge update in October 2023, Apple Inc. is one of the most valuable companies in the world, with a market capitalization often exceeding $2 trillion. However, the specific net worth of the company can fluctuate based on stock market conditions and other financial factors.\\n\\nIf you're looking for the most current net worth or market capitalization of Apple, I recommend checking a reliable financial news source or stock market website for the latest figures.\"}"
      ]
     },
     "execution_count": 30,
     "metadata": {},
     "output_type": "execute_result"
    }
   ],
   "source": [
    "simpleSeqChain.invoke(\"Health watch\")"
   ]
  },
  {
   "cell_type": "markdown",
   "metadata": {},
   "source": [
    "## SequentialChain"
   ]
  },
  {
   "cell_type": "code",
   "execution_count": 32,
   "metadata": {},
   "outputs": [],
   "source": [
    "llm = ChatOpenAI(model=LLM_MODEL, api_key=OPEN_AI_KEY, temperature=0)"
   ]
  },
  {
   "cell_type": "code",
   "execution_count": 37,
   "metadata": {},
   "outputs": [],
   "source": [
    "from langchain.chains import SequentialChain\n",
    "\n",
    "step1 = LLMChain(llm=llm, \n",
    "                  prompt=ChatPromptTemplate.from_template(\n",
    "                      \"Translate the following review to english:\"\n",
    "                      \"\\n\\n{Review}\"\n",
    "                  ),\n",
    "                  output_key=\"English_Review\")\n",
    "step2 = LLMChain(llm=llm,\n",
    "                  prompt=ChatPromptTemplate.from_template(\n",
    "                      \"Can you summarize the following review in 1 sentence:\"\n",
    "                      \"\\n\\n{English_Review}\"\n",
    "                  ),\n",
    "                  output_key=\"Summary\")\n",
    "step3 = LLMChain(llm=llm,\n",
    "                  prompt=ChatPromptTemplate.from_template(\n",
    "                      \"Schedule action items out of the summary as future improvement\"\n",
    "                      \"\\n\\n{Summary}\"\n",
    "                  ),\n",
    "                  output_key=\"Action_Items\")\n",
    "step4 = LLMChain(llm=llm,\n",
    "                  prompt=ChatPromptTemplate.from_template(\n",
    "                      \"Email the action items in formal tone to higher management\"\n",
    "                      \"\\n\\n{Action_Items}\"\n",
    "                  ),\n",
    "                  output_key=\"Email\")\n",
    "\n",
    "overall_chain = SequentialChain(\n",
    "    chains=[step1, step2, step3, step4],\n",
    "    input_variables=[\"Review\"],\n",
    "    output_variables=[\"English_Review\", \"Summary\",\"Action_Items\",\"Email\"],\n",
    "    verbose=True\n",
    ")"
   ]
  },
  {
   "cell_type": "code",
   "execution_count": 39,
   "metadata": {},
   "outputs": [
    {
     "data": {
      "text/plain": [
       "\"Je trouve le goût médiocre. La mousse ne tient pas, c'est bizarre. J'achète les mêmes dans le commerce et le goût est bien meilleur...\\nVieux lot ou contrefaçon !?\""
      ]
     },
     "execution_count": 39,
     "metadata": {},
     "output_type": "execute_result"
    }
   ],
   "source": [
    "review = df.Review[5]\n",
    "review"
   ]
  },
  {
   "cell_type": "code",
   "execution_count": 41,
   "metadata": {},
   "outputs": [
    {
     "name": "stderr",
     "output_type": "stream",
     "text": [
      "Error in StdOutCallbackHandler.on_chain_start callback: AttributeError(\"'NoneType' object has no attribute 'get'\")\n"
     ]
    },
    {
     "name": "stdout",
     "output_type": "stream",
     "text": [
      "\n",
      "\u001b[1m> Finished chain.\u001b[0m\n"
     ]
    },
    {
     "data": {
      "text/plain": [
       "{'Review': \"Je trouve le goût médiocre. La mousse ne tient pas, c'est bizarre. J'achète les mêmes dans le commerce et le goût est bien meilleur...\\nVieux lot ou contrefaçon !?\",\n",
       " 'English_Review': \"I find the taste mediocre. The foam doesn't hold, it's strange. I buy the same ones in stores and the taste is much better...  \\nOld batch or counterfeit!?\",\n",
       " 'Summary': 'The reviewer finds the taste mediocre and the foam unsatisfactory, suggesting that the product may be an old batch or counterfeit compared to better-tasting versions purchased in stores.',\n",
       " 'Action_Items': \"Based on the reviewer's feedback, here are some action items for future improvement:\\n\\n1. **Quality Control Review**  \\n   - **Action Item**: Conduct a thorough review of the quality control processes to ensure that all batches meet taste and foam standards.  \\n   - **Responsible Team**: Quality Assurance  \\n   - **Deadline**: [Insert Date]\\n\\n2. **Batch Testing Protocol**  \\n   - **Action Item**: Implement a more rigorous batch testing protocol to identify any discrepancies in taste and foam quality before products are released to the market.  \\n   - **Responsible Team**: Production and Quality Control  \\n   - **Deadline**: [Insert Date]\\n\\n3. **Supplier Evaluation**  \\n   - **Action Item**: Evaluate and verify the suppliers of ingredients to ensure they meet quality standards and are not contributing to inferior product batches.  \\n   - **Responsible Team**: Procurement  \\n   - **Deadline**: [Insert Date]\\n\\n4. **Customer Feedback Mechanism**  \\n   - **Action Item**: Establish a more robust customer feedback mechanism to gather insights on product quality and taste regularly.  \\n   - **Responsible Team**: Customer Service and Marketing  \\n   - **Deadline**: [Insert Date]\\n\\n5. **Product Comparison Study**  \\n   - **Action Item**: Conduct a comparative study of the product against better-tasting versions available in stores to identify specific areas for improvement.  \\n   - **Responsible Team**: R&D  \\n   - **Deadline**: [Insert Date]\\n\\n6. **Training for Staff**  \\n   - **Action Item**: Provide training for staff on quality standards and the importance of maintaining product integrity to prevent future issues.  \\n   - **Responsible Team**: Human Resources and Quality Assurance  \\n   - **Deadline**: [Insert Date]\\n\\n7. **Consumer Education Campaign**  \\n   - **Action Item**: Launch a consumer education campaign to inform customers about how to identify genuine products and the importance of purchasing from reputable sources.  \\n   - **Responsible Team**: Marketing  \\n   - **Deadline**: [Insert Date]\\n\\nBy addressing these action items, the company can work towards improving product quality and customer satisfaction.\",\n",
       " 'Email': \"Subject: Action Items for Future Improvement Based on Reviewer Feedback\\n\\nDear [Higher Management/Specific Name],\\n\\nI hope this message finds you well. Following the recent reviewer's feedback, I would like to present a set of action items aimed at enhancing our product quality and overall customer satisfaction. Please find the details below:\\n\\n1. **Quality Control Review**  \\n   - **Action Item**: Conduct a thorough review of the quality control processes to ensure that all batches meet taste and foam standards.  \\n   - **Responsible Team**: Quality Assurance  \\n   - **Deadline**: [Insert Date]\\n\\n2. **Batch Testing Protocol**  \\n   - **Action Item**: Implement a more rigorous batch testing protocol to identify any discrepancies in taste and foam quality before products are released to the market.  \\n   - **Responsible Team**: Production and Quality Control  \\n   - **Deadline**: [Insert Date]\\n\\n3. **Supplier Evaluation**  \\n   - **Action Item**: Evaluate and verify the suppliers of ingredients to ensure they meet quality standards and are not contributing to inferior product batches.  \\n   - **Responsible Team**: Procurement  \\n   - **Deadline**: [Insert Date]\\n\\n4. **Customer Feedback Mechanism**  \\n   - **Action Item**: Establish a more robust customer feedback mechanism to gather insights on product quality and taste regularly.  \\n   - **Responsible Team**: Customer Service and Marketing  \\n   - **Deadline**: [Insert Date]\\n\\n5. **Product Comparison Study**  \\n   - **Action Item**: Conduct a comparative study of the product against better-tasting versions available in stores to identify specific areas for improvement.  \\n   - **Responsible Team**: R&D  \\n   - **Deadline**: [Insert Date]\\n\\n6. **Training for Staff**  \\n   - **Action Item**: Provide training for staff on quality standards and the importance of maintaining product integrity to prevent future issues.  \\n   - **Responsible Team**: Human Resources and Quality Assurance  \\n   - **Deadline**: [Insert Date]\\n\\n7. **Consumer Education Campaign**  \\n   - **Action Item**: Launch a consumer education campaign to inform customers about how to identify genuine products and the importance of purchasing from reputable sources.  \\n   - **Responsible Team**: Marketing  \\n   - **Deadline**: [Insert Date]\\n\\nBy addressing these action items, we can significantly improve our product quality and enhance customer satisfaction. I look forward to your feedback and any additional suggestions you may have.\\n\\nThank you for your attention to this matter.\\n\\nBest regards,\\n\\n[Your Name]  \\n[Your Position]  \\n[Your Contact Information]  \\n[Your Company]  \"}"
      ]
     },
     "execution_count": 41,
     "metadata": {},
     "output_type": "execute_result"
    }
   ],
   "source": [
    "overall_chain.invoke(review)"
   ]
  }
 ],
 "metadata": {
  "kernelspec": {
   "display_name": "langchain",
   "language": "python",
   "name": "python3"
  },
  "language_info": {
   "codemirror_mode": {
    "name": "ipython",
    "version": 3
   },
   "file_extension": ".py",
   "mimetype": "text/x-python",
   "name": "python",
   "nbconvert_exporter": "python",
   "pygments_lexer": "ipython3",
   "version": "3.8.2"
  }
 },
 "nbformat": 4,
 "nbformat_minor": 2
}
